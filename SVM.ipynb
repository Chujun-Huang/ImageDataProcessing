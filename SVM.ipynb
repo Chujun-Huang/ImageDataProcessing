{
 "cells": [
  {
   "cell_type": "code",
   "execution_count": 45,
   "metadata": {
    "collapsed": true,
    "pycharm": {
     "name": "#%%\n"
    }
   },
   "outputs": [
    {
     "name": "stdout",
     "output_type": "stream",
     "text": [
      "Train data shape: (10000, 784)\n",
      "Test data shape: (100, 784)\n",
      "The SVM module accuracy: 0.99 and training consume: 8.58 sec, testing consume: 0.08 sec\n"
     ]
    }
   ],
   "source": [
    "# loading package\n",
    "from keras.datasets import mnist\n",
    "import numpy as np\n",
    "from sklearn import svm\n",
    "from sklearn.decomposition import PCA\n",
    "import time\n",
    "\n",
    "# arguments\n",
    "TRAIN_NUM = 10000\n",
    "TEST_NUM = 100\n",
    "COMPONENT_NUM = 0\n",
    "\n",
    "def import_data(TRAIN_NUM, TEST_NUM):\n",
    "    TRAIN_DATA_3D = np.empty((TRAIN_NUM, 28, 28))\n",
    "    TRAIN_LABEL = np.empty(TRAIN_NUM)\n",
    "    TEST_DATA_3D = np.empty((TEST_NUM, 28, 28))\n",
    "    TEST_LABEL = np.empty(TEST_NUM)\n",
    "    TRAIN_DATA_3D[0: TRAIN_NUM] = X_TRAIN[0: TRAIN_NUM]\n",
    "    TRAIN_LABEL[0: TRAIN_NUM] = Y_TRAIN[0: TRAIN_NUM]\n",
    "    TEST_DATA_3D[0: TEST_NUM] = X_TEST[0: TEST_NUM]\n",
    "    TEST_LABEL[0: TEST_NUM] = Y_TEST[0: TEST_NUM]\n",
    "    TRAIN_DATA_2D = TRAIN_DATA_3D.reshape(TRAIN_NUM, -1)\n",
    "    TEST_DATA_2D = TEST_DATA_3D.reshape(TEST_NUM, -1)\n",
    "    return TRAIN_DATA_2D, TRAIN_LABEL, TEST_DATA_2D, TEST_LABEL\n",
    "\n",
    "def pca_dimension_reduce(TRAIN_DATA, TEST_DATA, COMPONENT_NUM):\n",
    "    pca = PCA(n_components = COMPONENT_NUM)\n",
    "    train_reduce = pca.fit_transform(TRAIN_DATA)\n",
    "    test_reduce = pca.transform(TEST_DATA)\n",
    "    return train_reduce, test_reduce\n",
    "\n",
    "# def the svm module\n",
    "# time calculate ref: https://pynative.com/python-get-execution-time-of-program/\n",
    "def svm_class(TRAIN_DATA, TRAIN_LABEL, TEST_DATA, TEST_LABEL):\n",
    "    TRAIN_st = time.time()\n",
    "    polyModel = svm.SVC(kernel='poly', degree=3, gamma='auto', C=1)\n",
    "    polyModel.fit(TRAIN_DATA, TRAIN_LABEL)\n",
    "    TRAIN_et = time.time()\n",
    "    ACCURACY = polyModel.score(TEST_DATA, TEST_LABEL)\n",
    "    TEST_et = time.time()\n",
    "    TRAIN_cost = TRAIN_et - TRAIN_st\n",
    "    TEST_cost = TEST_et - TRAIN_et\n",
    "    return ACCURACY, TRAIN_cost, TEST_cost\n",
    "\n",
    "# import data\n",
    "(X_TRAIN, Y_TRAIN), (X_TEST, Y_TEST) = mnist.load_data()\n",
    "TRAIN_DATA, TRAIN_LABEL, TEST_DATA, TEST_LABEL = import_data(TRAIN_NUM, TEST_NUM)\n",
    "\n",
    "if COMPONENT_NUM == 0:\n",
    "    print('Train data shape: ' + str(TRAIN_DATA.shape))\n",
    "    print('Test data shape: ' + str(TEST_DATA.shape))\n",
    "    ACCURACY, TRAIN_COST, TEST_COST = svm_class(TRAIN_DATA, TRAIN_LABEL, TEST_DATA, TEST_LABEL)\n",
    "    print('The SVM module accuracy: ' + str(ACCURACY) + ' and training consume: ' + str(round(TRAIN_COST, 2)) + ' sec, testing consume: ' + str(round(TEST_COST, 2)) + ' sec')\n",
    "else:\n",
    "    TRAIN_REDUCE, TEST_REDUCE = pca_dimension_reduce(TRAIN_DATA, TEST_DATA, COMPONENT_NUM)\n",
    "    print('Reduce dimension train data shape: ' + str(TRAIN_REDUCE.shape))\n",
    "    print('Reduce dimension test data shape: ' + str(TEST_REDUCE.shape))\n",
    "    ACCURACY, TRAIN_COST, TEST_COST = svm_class(TRAIN_REDUCE, TRAIN_LABEL, TEST_REDUCE, TEST_LABEL)\n",
    "    print('The SVM module accuracy: ' + str(ACCURACY) + ' and training consume: ' + str(round(TRAIN_COST, 2)) + ' sec, testing consume: ' + str(round(TEST_COST, 2)) + ' sec')\n"
   ]
  },
  {
   "cell_type": "code",
   "execution_count": 29,
   "outputs": [
    {
     "name": "stdout",
     "output_type": "stream",
     "text": [
      "Reduce dimension train data shape: (1000, 30)\n",
      "Reduce dimension test data shape: (100, 30)\n",
      "The SVM module accuracy: 0.92 and consume: 0.09 sec\n"
     ]
    }
   ],
   "source": [
    "# Usage\n",
    "# python3 SVM.py TRAIN_DATA_NUM TEST_DATA_NUM PCA_COMPONENT_NUM\n",
    "# note: PCA_COMPONENT_NUM = 0 (run SVM without reduce dimension)\n",
    "\n",
    "# loading package\n",
    "from keras.datasets import mnist\n",
    "import numpy as np\n",
    "from sklearn import svm\n",
    "from sklearn.decomposition import PCA\n",
    "import time\n",
    "import sys\n",
    "\n",
    "# arguments\n",
    "TRAIN_NUM = sys.argv[1]\n",
    "TEST_NUM = sys.argv[2]\n",
    "COMPONENT_NUM = sys.argv[3]\n",
    "\n",
    "def import_data(TRAIN_NUM, TEST_NUM):\n",
    "    TRAIN_DATA_3D = np.empty((TRAIN_NUM, 28, 28))\n",
    "    TRAIN_LABEL = np.empty(TRAIN_NUM)\n",
    "    TEST_DATA_3D = np.empty((TEST_NUM, 28, 28))\n",
    "    TEST_LABEL = np.empty(TEST_NUM)\n",
    "    TRAIN_DATA_3D[0: TRAIN_NUM] = X_TRAIN[0: TRAIN_NUM]\n",
    "    TRAIN_LABEL[0: TRAIN_NUM] = Y_TRAIN[0: TRAIN_NUM]\n",
    "    TEST_DATA_3D[0: TEST_NUM] = X_TEST[0: TEST_NUM]\n",
    "    TEST_LABEL[0: TEST_NUM] = Y_TEST[0: TEST_NUM]\n",
    "    TRAIN_DATA_2D = TRAIN_DATA_3D.reshape(TRAIN_NUM, -1)\n",
    "    TEST_DATA_2D = TEST_DATA_3D.reshape(TEST_NUM, -1)\n",
    "    return TRAIN_DATA_2D, TRAIN_LABEL, TEST_DATA_2D, TEST_LABEL\n",
    "\n",
    "def pca_dimension_reduce(TRAIN_DATA, TEST_DATA, COMPONENT_NUM):\n",
    "    pca = PCA(n_components = COMPONENT_NUM)\n",
    "    train_reduce = pca.fit_transform(TRAIN_DATA)\n",
    "    test_reduce = pca.transform(TEST_DATA)\n",
    "    return train_reduce, test_reduce\n",
    "\n",
    "# def the svm module\n",
    "# time calculate ref: https://pynative.com/python-get-execution-time-of-program/\n",
    "def svm_class(TRAIN_DATA, TRAIN_LABEL, TEST_DATA, TEST_LABEL):\n",
    "    st = time.time()\n",
    "    polyModel = svm.SVC(kernel='poly', degree=3, gamma='auto', C=1)\n",
    "    polyModel.fit(TRAIN_DATA, TRAIN_LABEL)\n",
    "    ACCURACY = polyModel.score(TEST_DATA, TEST_LABEL)\n",
    "    et = time.time()\n",
    "    cost = et - st\n",
    "    return ACCURACY, cost\n",
    "\n",
    "# import data\n",
    "(X_TRAIN, Y_TRAIN), (X_TEST, Y_TEST) = mnist.load_data()\n",
    "TRAIN_DATA, TRAIN_LABEL, TEST_DATA, TEST_LABEL = import_data(TRAIN_NUM, TEST_NUM)\n",
    "\n",
    "if COMPONENT_NUM == 0:\n",
    "    print('Train data shape: ' + str(TRAIN_DATA.shape))\n",
    "    print('Test data shape: ' + str(TEST_DATA.shape))\n",
    "    ACCURACY, COST = svm_class(TRAIN_DATA, TRAIN_LABEL, TEST_DATA, TEST_LABEL)\n",
    "    print('The SVM module accuracy: ' + str(ACCURACY) + ' and consume: ' + str(round(COST, 2)) + ' sec')\n",
    "else:\n",
    "    TRAIN_REDUCE, TEST_REDUCE = pca_dimension_reduce(TRAIN_DATA, TEST_DATA, COMPONENT_NUM)\n",
    "    print('Reduce dimension train data shape: ' + str(TRAIN_REDUCE.shape))\n",
    "    print('Reduce dimension test data shape: ' + str(TEST_REDUCE.shape))\n",
    "    ACCURACY, COST = svm_class(TRAIN_REDUCE, TRAIN_LABEL, TEST_REDUCE, TEST_LABEL)\n",
    "    print('The SVM module accuracy: ' + str(ACCURACY) + ' and consume: ' + str(round(COST, 2)) + ' sec')\n"
   ],
   "metadata": {
    "collapsed": false,
    "pycharm": {
     "name": "#%%\n"
    }
   }
  }
 ],
 "metadata": {
  "kernelspec": {
   "display_name": "Python 3",
   "language": "python",
   "name": "python3"
  },
  "language_info": {
   "codemirror_mode": {
    "name": "ipython",
    "version": 2
   },
   "file_extension": ".py",
   "mimetype": "text/x-python",
   "name": "python",
   "nbconvert_exporter": "python",
   "pygments_lexer": "ipython2",
   "version": "2.7.6"
  }
 },
 "nbformat": 4,
 "nbformat_minor": 0
}