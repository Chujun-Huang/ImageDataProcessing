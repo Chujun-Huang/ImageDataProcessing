{
 "cells": [
  {
   "cell_type": "code",
   "execution_count": 5,
   "metadata": {
    "collapsed": true,
    "pycharm": {
     "name": "#%%\n"
    }
   },
   "outputs": [],
   "source": [
    "FILE_BK = \"power_law.bmp\"\n",
    "BMP_list = []\n",
    "with open(FILE_BK, \"rb\") as INPUT:\n",
    "    BYTE = INPUT.read(1)\n",
    "    FIRST = int.from_bytes(BYTE, \"big\")\n",
    "    #FIRST_HEX = ('%02X' %FIRST)\n",
    "    BMP_list.append(FIRST)\n",
    "    while BYTE != b\"\":\n",
    "        BYTE = INPUT.read(1)\n",
    "        INT = int.from_bytes(BYTE, \"big\")\n",
    "        #HEX = ('%02X' %INT)\n",
    "        BMP_list.append(INT)\n",
    "HEADER = BMP_list[0:54]\n",
    "PALETTE = BMP_list[54:1078]\n",
    "IMAGE = BMP_list[1078:]\n",
    "IMAGE_P = []\n",
    "for num in range(len(IMAGE)):\n",
    "    IMAGE_P.append(round(((IMAGE[num] + 1) ** 3) * 255 / 16777216))\n",
    "#print(f\"{max(IMAGE_P)}\")\n",
    "IMAGE_powerTransform = HEADER + PALETTE + IMAGE_P\n",
    "OUTPUT = 'PowerLaw_transformation.bmp'\n",
    "with open(OUTPUT, 'wb') as OUT:\n",
    "    IMAGE_powerTransform_B = bytearray(IMAGE_powerTransform)\n",
    "    OUT.write(IMAGE_powerTransform_B)"
   ]
  }
 ],
 "metadata": {
  "kernelspec": {
   "display_name": "Python 3",
   "language": "python",
   "name": "python3"
  },
  "language_info": {
   "codemirror_mode": {
    "name": "ipython",
    "version": 2
   },
   "file_extension": ".py",
   "mimetype": "text/x-python",
   "name": "python",
   "nbconvert_exporter": "python",
   "pygments_lexer": "ipython2",
   "version": "2.7.6"
  }
 },
 "nbformat": 4,
 "nbformat_minor": 0
}