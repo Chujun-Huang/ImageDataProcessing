{
 "cells": [
  {
   "cell_type": "code",
   "execution_count": 35,
   "metadata": {
    "collapsed": true,
    "pycharm": {
     "name": "#%%\n"
    }
   },
   "outputs": [],
   "source": [
    "FILE_BK = \"HistogramEQ.bmp\"\n",
    "BMP_list = []\n",
    "with open(FILE_BK, \"rb\") as INPUT:\n",
    "    BYTE = INPUT.read(1)\n",
    "    FIRST = int.from_bytes(BYTE, \"big\")\n",
    "    #FIRST_HEX = ('%02X' %FIRST)\n",
    "    BMP_list.append(FIRST)\n",
    "    while BYTE != b\"\":\n",
    "        BYTE = INPUT.read(1)\n",
    "        INT = int.from_bytes(BYTE, \"big\")\n",
    "        #HEX = ('%02X' %INT)\n",
    "        BMP_list.append(INT)\n",
    "HEADER = BMP_list[0:54]\n",
    "PALETTE = BMP_list[54:1078]\n",
    "IMAGE = BMP_list[1078:]\n",
    "Grey_Level_probability = []\n",
    "Grey_Level_transform_temp = []\n",
    "Grey_Level_transform_dic = {}\n",
    "probability_sum = 0\n",
    "IMAGE_HisTran = []\n",
    "for num in range(256):\n",
    "    Grey_Level_probability.append((IMAGE.count(num)) / 700417)\n",
    "    probability_sum += (Grey_Level_probability[num] * 255)\n",
    "    Grey_Level_transform_temp.append(round(probability_sum))\n",
    "    Grey_Level_transform_dic[num] = Grey_Level_transform_temp[num]\n",
    "for pixel in range(len(IMAGE)):\n",
    "    val_ori = IMAGE[pixel]\n",
    "    val_trans = Grey_Level_transform_dic[val_ori]\n",
    "    IMAGE_HisTran.append(val_trans)\n",
    "HisTransform = HEADER + PALETTE + IMAGE_HisTran\n",
    "OUTPUT = 'HistogramEqualization_transform.bmp'\n",
    "with open(OUTPUT, 'wb') as OUT:\n",
    "    HisTransform_b = bytearray(HisTransform)\n",
    "    OUT.write(HisTransform_b)"
   ]
  }
 ],
 "metadata": {
  "kernelspec": {
   "display_name": "Python 3",
   "language": "python",
   "name": "python3"
  },
  "language_info": {
   "codemirror_mode": {
    "name": "ipython",
    "version": 2
   },
   "file_extension": ".py",
   "mimetype": "text/x-python",
   "name": "python",
   "nbconvert_exporter": "python",
   "pygments_lexer": "ipython2",
   "version": "2.7.6"
  }
 },
 "nbformat": 4,
 "nbformat_minor": 0
}